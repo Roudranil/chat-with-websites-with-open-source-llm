{
 "cells": [
  {
   "cell_type": "markdown",
   "metadata": {},
   "source": [
    "# Imports"
   ]
  },
  {
   "cell_type": "code",
   "execution_count": 1,
   "metadata": {},
   "outputs": [],
   "source": [
    "import os\n",
    "import json\n",
    "import utils\n",
    "import tqdm.notebook as tqdm\n",
    "\n",
    "import pandas as pd\n",
    "import textwrap\n",
    "\n",
    "import torch\n",
    "from transformers import (\n",
    "    LlamaTokenizer,\n",
    "    LlamaForCausalLM,\n",
    "    GenerationConfig,\n",
    "    pipeline,\n",
    "    AutoTokenizer,\n",
    "    AutoModelForCausalLM,\n",
    ")\n",
    "\n",
    "from langchain.document_loaders import DataFrameLoader\n",
    "from langchain.text_splitter import CharacterTextSplitter\n",
    "from langchain.embeddings import HuggingFaceEmbeddings\n",
    "from langchain.llms import HuggingFacePipeline\n",
    "from langchain.vectorstores import Chroma\n",
    "from langchain import PromptTemplate\n",
    "from langchain.chains import RetrievalQA, ConversationalRetrievalChain"
   ]
  },
  {
   "cell_type": "code",
   "execution_count": 2,
   "metadata": {},
   "outputs": [],
   "source": [
    "import warnings\n",
    "\n",
    "warnings.simplefilter(\"ignore\")"
   ]
  },
  {
   "cell_type": "markdown",
   "metadata": {},
   "source": [
    "# Importing and parsing the dataset"
   ]
  },
  {
   "cell_type": "code",
   "execution_count": 3,
   "metadata": {},
   "outputs": [],
   "source": [
    "project_root_directory = utils.find_root_directory()\n",
    "DATA_DIR = os.path.join(project_root_directory, \"data\")"
   ]
  },
  {
   "cell_type": "code",
   "execution_count": 4,
   "metadata": {},
   "outputs": [
    {
     "data": {
      "text/html": [
       "<div>\n",
       "<style scoped>\n",
       "    .dataframe tbody tr th:only-of-type {\n",
       "        vertical-align: middle;\n",
       "    }\n",
       "\n",
       "    .dataframe tbody tr th {\n",
       "        vertical-align: top;\n",
       "    }\n",
       "\n",
       "    .dataframe thead th {\n",
       "        text-align: right;\n",
       "    }\n",
       "</style>\n",
       "<table border=\"1\" class=\"dataframe\">\n",
       "  <thead>\n",
       "    <tr style=\"text-align: right;\">\n",
       "      <th></th>\n",
       "      <th>url</th>\n",
       "      <th>text</th>\n",
       "    </tr>\n",
       "  </thead>\n",
       "  <tbody>\n",
       "    <tr>\n",
       "      <th>0</th>\n",
       "      <td>https://en.wikibooks.org/wiki/Cookbook:Aubergi...</td>\n",
       "      <td>Cookbook:Aubergine and Onion Vegetable Pie\\nde...</td>\n",
       "    </tr>\n",
       "    <tr>\n",
       "      <th>1</th>\n",
       "      <td>https://en.wikibooks.org/wiki/Cookbook:Palatsc...</td>\n",
       "      <td>Cookbook:Palatschinken (Czech/Austrian Crepes)...</td>\n",
       "    </tr>\n",
       "    <tr>\n",
       "      <th>2</th>\n",
       "      <td>https://en.wikibooks.org/wiki/Cookbook:Austria...</td>\n",
       "      <td>Cookbook:Austrian Napkin Dumpling (Serviettenk...</td>\n",
       "    </tr>\n",
       "    <tr>\n",
       "      <th>3</th>\n",
       "      <td>https://en.wikibooks.org/wiki/Cookbook:Asparag...</td>\n",
       "      <td>Cookbook:Asparagus with Sesame Seeds and Soy S...</td>\n",
       "    </tr>\n",
       "    <tr>\n",
       "      <th>4</th>\n",
       "      <td>https://en.wikibooks.org/wiki/Cookbook:Atomic_...</td>\n",
       "      <td>Cookbook:Atomic Fudge Cake\\ndesc\\nA delicious ...</td>\n",
       "    </tr>\n",
       "  </tbody>\n",
       "</table>\n",
       "</div>"
      ],
      "text/plain": [
       "                                                 url  \\\n",
       "0  https://en.wikibooks.org/wiki/Cookbook:Aubergi...   \n",
       "1  https://en.wikibooks.org/wiki/Cookbook:Palatsc...   \n",
       "2  https://en.wikibooks.org/wiki/Cookbook:Austria...   \n",
       "3  https://en.wikibooks.org/wiki/Cookbook:Asparag...   \n",
       "4  https://en.wikibooks.org/wiki/Cookbook:Atomic_...   \n",
       "\n",
       "                                                text  \n",
       "0  Cookbook:Aubergine and Onion Vegetable Pie\\nde...  \n",
       "1  Cookbook:Palatschinken (Czech/Austrian Crepes)...  \n",
       "2  Cookbook:Austrian Napkin Dumpling (Serviettenk...  \n",
       "3  Cookbook:Asparagus with Sesame Seeds and Soy S...  \n",
       "4  Cookbook:Atomic Fudge Cake\\ndesc\\nA delicious ...  "
      ]
     },
     "execution_count": 4,
     "metadata": {},
     "output_type": "execute_result"
    }
   ],
   "source": [
    "recipes_df = pd.read_json(os.path.join(DATA_DIR, \"all-recipes.json\"))\n",
    "recipes_df.head()"
   ]
  },
  {
   "cell_type": "code",
   "execution_count": 5,
   "metadata": {},
   "outputs": [
    {
     "name": "stdout",
     "output_type": "stream",
     "text": [
      "page_content='Cookbook:Aubergine and Onion Vegetable Pie\\ndesc\\nThis is a vegetable pie using tomatoes, aubergines (eggplant), onions, and mushrooms. You can make vegetable pie with many kinds of vegetables.\\n\\nIngredients\\nCrust\\n250 g (1 cup) flour\\n100 g (0.4 cups) medium-soft butter (leave it out for a half-hour before making the crust)\\n1 egg\\nLukewarm water\\n1 pinch of salt\\nFilling\\n1-2 aubergines (eggplants)\\n1-2 onions\\n4 tomatoes\\n150 g (0.6 cups) of mushrooms\\nGrated cheese\\nMilk\\n1 egg yolk\\nFresh cream\\nProcedure\\nCrust\\nAdd the flour to a large bowl.\\nAdd the butter, and rub it into the dough with your fingers until the pastry is nearly consistent in texture.\\nAdd the egg, then some water bit by bit while working the pastry with your hands until it becomes soft and smooth. It should not be sticky, and it should look shiny and medium-yellow.\\nFilling\\nCut the vegetables into thin slices.\\nBrown the vegetables in oil or butter or steam them, starting with the onions and aubergines (eggplant), then the mushrooms. Keep the tomatoes raw.\\nAssembly\\nRoll the dough out about  1/8 - 1/4 inch thick.\\nButter a pie pan and fit the dough into the pan. Prick the dough all over with a fork, and line it with some aluminum foil in a curved shape.\\nPre-bake the crust for about 10 minutes in a medium oven.\\nTake the crust out of the oven, and arrange the vegetables over the crust in whatever arrangement pleases you.\\nIn a bowl, mix the egg yolk with some milk and a bit of fresh cream, then pour the mixture on top of the vegetables.\\nCover with grated cheese.\\nBake for 15-20 minutes in a medium oven.' metadata={'url': 'https://en.wikibooks.org/wiki/Cookbook:Aubergine_and_Onion_Vegetable_Pie'}\n"
     ]
    }
   ],
   "source": [
    "loader = DataFrameLoader(recipes_df, page_content_column=\"text\")\n",
    "data = loader.load()\n",
    "print(data[0])"
   ]
  },
  {
   "cell_type": "code",
   "execution_count": 6,
   "metadata": {},
   "outputs": [],
   "source": [
    "text_splitter = CharacterTextSplitter(\n",
    "    separator=\"\\n\", chunk_size=4000, chunk_overlap=500\n",
    ")\n",
    "texts = text_splitter.split_documents(data)"
   ]
  },
  {
   "cell_type": "code",
   "execution_count": 11,
   "metadata": {},
   "outputs": [],
   "source": [
    "def wrap_text_preserve_newlines(text, width=110):\n",
    "    lines = text.split(\"\\n\")\n",
    "    wrapped_lines = [textwrap.fill(line, width=width) for line in lines]\n",
    "    wrapped_text = \"\\n\".join(wrapped_lines)\n",
    "\n",
    "    return wrapped_text\n",
    "\n",
    "\n",
    "def process_llm_response(llm_response):\n",
    "    print(wrap_text_preserve_newlines(llm_response[\"result\"]))\n",
    "    # print('\\n\\nSources:')\n",
    "    # for source in llm_response[\"source_documents\"]:\n",
    "    # print(source.metadata['source'])\n",
    "\n",
    "\n",
    "def converse(qa, query):\n",
    "    text = qa({\"question\": query, \"chat_history\": []}, return_only_outputs=True)\n",
    "    lines = text[\"answer\"].split(\"\\n\")\n",
    "    wrapped_lines = [textwrap.fill(line, width=110) for line in lines]\n",
    "    wrapped_text = \"\\n\".join(wrapped_lines)\n",
    "    # print(wrapped_text)\n",
    "    index = wrapped_text.find(\"Helpful Answer:\")\n",
    "\n",
    "    # Check if \"Helpful answer:\" is present in the input string\n",
    "    if index != -1:\n",
    "        # Extract everything after \"Helpful answer:\"\n",
    "        result = wrapped_text[index + len(\"Helpful Answer:\") :]\n",
    "        print(result)  # Remove leading and trailing whitespace characters\n",
    "    else:\n",
    "        print(wrapped_text)\n",
    "\n",
    "\n",
    "def get_qa_pipeline(\n",
    "    model,\n",
    "    tokenizer,\n",
    "    embeddings,\n",
    "    pipeline_kwargs={\n",
    "        \"max_new_tokens\": 1024,\n",
    "        \"temperature\": 0,\n",
    "        \"top_p\": 0.98,\n",
    "        \"repetition_penalty\": 1.15,\n",
    "},\n",
    "    search_kwargs={\"k\": 2},\n",
    "    chain_kwargs={},\n",
    "):\n",
    "    pipe = pipeline(\n",
    "        \"text-generation\",\n",
    "        model=model,\n",
    "        tokenizer=tokenizer,\n",
    "        # max_length=3000,\n",
    "        **pipeline_kwargs\n",
    "    )\n",
    "\n",
    "    local_llm = HuggingFacePipeline(pipeline=pipe)\n",
    "    persist_directory = \"db2\"\n",
    "    vectordb = Chroma.from_documents(\n",
    "        documents=texts, embedding=embeddings, persist_directory=persist_directory\n",
    "    )\n",
    "    retriever = vectordb.as_retriever(search_kwargs=search_kwargs)\n",
    "    # qa_chain = RetrievalQA.from_chain_type(\n",
    "    #     llm=local_llm,\n",
    "    #     chain_type=\"stuff\",\n",
    "    #     retriever=retriever,\n",
    "    #     return_source_documents=False,\n",
    "    #     **chain_kwargs\n",
    "    # )\n",
    "    qa = ConversationalRetrievalChain.from_llm(local_llm, retriever)\n",
    "    return qa"
   ]
  },
  {
   "cell_type": "markdown",
   "metadata": {},
   "source": [
    "# Experimenting with various models\n",
    "\n",
    "Model sizes to be experimented with:\n",
    "- 1B\n",
    "- 3B\n",
    "- 7B"
   ]
  },
  {
   "cell_type": "markdown",
   "metadata": {},
   "source": [
    "## 1B `TinyLlama/TinyLlama-1.1B-Chat-v1.0`"
   ]
  },
  {
   "cell_type": "code",
   "execution_count": 8,
   "metadata": {},
   "outputs": [
    {
     "name": "stderr",
     "output_type": "stream",
     "text": [
      "The `load_in_4bit` and `load_in_8bit` arguments are deprecated and will be removed in the future versions. Please, pass a `BitsAndBytesConfig` object in `quantization_config` argument instead.\n"
     ]
    }
   ],
   "source": [
    "tokenizer = AutoTokenizer.from_pretrained(\"TinyLlama/TinyLlama-1.1B-Chat-v1.0\")\n",
    "model = AutoModelForCausalLM.from_pretrained(\n",
    "    \"TinyLlama/TinyLlama-1.1B-Chat-v1.0\",\n",
    "    load_in_8bit=True,\n",
    "    device_map=\"auto\",\n",
    "    torch_dtype=torch.float16,\n",
    "    low_cpu_mem_usage=True,\n",
    "    temperature=0,\n",
    ")"
   ]
  },
  {
   "cell_type": "code",
   "execution_count": 9,
   "metadata": {},
   "outputs": [],
   "source": [
    "instructor_embeddings = HuggingFaceEmbeddings(\n",
    "    model_name=\"embaas/sentence-transformers-e5-large-v2\",\n",
    "    model_kwargs={\"device\": \"cuda\"},\n",
    ")"
   ]
  },
  {
   "cell_type": "code",
   "execution_count": 12,
   "metadata": {},
   "outputs": [],
   "source": [
    "qa = get_qa_pipeline(model, tokenizer, instructor_embeddings)"
   ]
  },
  {
   "cell_type": "code",
   "execution_count": 35,
   "metadata": {},
   "outputs": [
    {
     "name": "stdout",
     "output_type": "stream",
     "text": [
      "\n",
      "Cookbook: Spicy Chilli Chicken\n",
      "Desc\n",
      "Chile chicken, cooked Kerala style.\n",
      "Ingredients\n",
      "1 pound boneless chicken meat\n",
      "1 tbsp masala\n",
      "1 cup lemon juice\n",
      "Salt to taste\n",
      "3 tbsp canola oil\n",
      "1 1/2 ea. red onion, chopped\n",
      "3/4 tbsp red chile powder\n",
      "3/4 tsp turmeric powder\n",
      "1 tsp smoked paprika\n",
      "1 tsp coriander\n",
      "3 medium tomatoes, chopped\n",
      "3/4 tbsp minced ginger\n",
      "2 tbsp minced garlic\n",
      "6 tbsp tomato ketchup\n",
      "8 tbsp soy sauce\n",
      "4 Indian green chiles, chopped\n",
      "2 green bell peppers, sliced\n",
      "Procedure\n",
      "Marinate the chicken with lemon juice, masala, and salt for 1 hour.\n",
      "In a large pot, fry the marinated chicken in canola oil until golden brown (5-7 minutes).\n",
      "Remove the chicken from the pot and cut into pieces.\n",
      "Into the remaining oil, add the onions, red chili powder, turmeric, paprika, and coriander powder, and saute\n",
      "until wilted.\n",
      "Add the tomatoes, ginger, and garlic, and cook till the tomatoes are softened and breaking apart.\n",
      "Put the ketchup, soy sauce, fried chicken pieces, green chiles, and green peppers in the pot, and simmer until\n",
      "peppers are soft and chicken is fully-cooked.\n",
      "Serve over steamed rice.\n"
     ]
    }
   ],
   "source": [
    "converse(qa, \"Give the cooking procedure (with ingredients and instructions) for a chicken curry dish in the cookbook.\")"
   ]
  },
  {
   "cell_type": "code",
   "execution_count": 36,
   "metadata": {},
   "outputs": [
    {
     "name": "stdout",
     "output_type": "stream",
     "text": [
      " In the cookbook, the recipe calls for 2 tbsp coconut oil, 1 big onion, 3 cloves garlic, 2 cm\n",
      "piece ginger, 2 scallions, 50 g red chile, 1 cup basmati rice, 30 g chile powder, 3 tbsp light soy sauce, 2\n",
      "tbsp fish sauce, 1 tbsp chicken powder, 1 tbsp salt, and 1 tbsp pepper.\n"
     ]
    }
   ],
   "source": [
    "converse(qa, \"Give the ingredients for an Asian spicy dish in the cookbook.\")"
   ]
  },
  {
   "cell_type": "code",
   "execution_count": 19,
   "metadata": {},
   "outputs": [
    {
     "name": "stdout",
     "output_type": "stream",
     "text": [
      " Here are ten recipes in the cookbook that use pork:\n",
      "1. Baked Pork Roast\n",
      "2. Grilled Pork Tenderloin with Mango Salsa\n",
      "3. Pork Loin with Cranberry Sauce\n",
      "4. Pork Chop with Mustard Glaze\n",
      "5. Pork Ribs with Barbecue Sauce\n",
      "6. Pork Chops with Apple and Onion Stuffing\n",
      "7. Pork Chops with Caramelized Onions and Bacon\n",
      "8. Pork Chops with Rice Pilaf and Herb Butter\n",
      "9. Pork Chops with Spicy Peach Glaze\n",
      "10. Pork Chops with Maple Ginger Glaze\n"
     ]
    }
   ],
   "source": [
    "converse(qa, \"List 10 recipes in the cookbook that use pork.\")"
   ]
  },
  {
   "cell_type": "code",
   "execution_count": null,
   "metadata": {},
   "outputs": [],
   "source": [
    "converse(qa, \"Give the ingredients and the cooking procedure for Baked Pork Roast.\")"
   ]
  },
  {
   "cell_type": "markdown",
   "metadata": {},
   "source": [
    "## 3B `stabilityai/stablelm-zephyr-3b`"
   ]
  },
  {
   "cell_type": "code",
   "execution_count": 25,
   "metadata": {},
   "outputs": [
    {
     "data": {
      "application/vnd.jupyter.widget-view+json": {
       "model_id": "b537c940bea044589108a623441cedaf",
       "version_major": 2,
       "version_minor": 0
      },
      "text/plain": [
       "tokenizer_config.json:   0%|          | 0.00/5.21k [00:00<?, ?B/s]"
      ]
     },
     "metadata": {},
     "output_type": "display_data"
    },
    {
     "data": {
      "application/vnd.jupyter.widget-view+json": {
       "model_id": "6c012fee929b48a2b60dbf7772c6b921",
       "version_major": 2,
       "version_minor": 0
      },
      "text/plain": [
       "tokenizer.json:   0%|          | 0.00/2.11M [00:00<?, ?B/s]"
      ]
     },
     "metadata": {},
     "output_type": "display_data"
    },
    {
     "data": {
      "application/vnd.jupyter.widget-view+json": {
       "model_id": "b3e038e789c946b194d8913300eb55e5",
       "version_major": 2,
       "version_minor": 0
      },
      "text/plain": [
       "special_tokens_map.json:   0%|          | 0.00/587 [00:00<?, ?B/s]"
      ]
     },
     "metadata": {},
     "output_type": "display_data"
    },
    {
     "name": "stderr",
     "output_type": "stream",
     "text": [
      "Special tokens have been added in the vocabulary, make sure the associated word embeddings are fine-tuned or trained.\n"
     ]
    },
    {
     "data": {
      "application/vnd.jupyter.widget-view+json": {
       "model_id": "46bef693c28f4202941f2cee7cb0be69",
       "version_major": 2,
       "version_minor": 0
      },
      "text/plain": [
       "config.json:   0%|          | 0.00/599 [00:00<?, ?B/s]"
      ]
     },
     "metadata": {},
     "output_type": "display_data"
    },
    {
     "name": "stderr",
     "output_type": "stream",
     "text": [
      "The `load_in_4bit` and `load_in_8bit` arguments are deprecated and will be removed in the future versions. Please, pass a `BitsAndBytesConfig` object in `quantization_config` argument instead.\n"
     ]
    },
    {
     "data": {
      "application/vnd.jupyter.widget-view+json": {
       "model_id": "eb1d699b0d3742129f56fdee161c2602",
       "version_major": 2,
       "version_minor": 0
      },
      "text/plain": [
       "model.safetensors:   0%|          | 0.00/5.59G [00:00<?, ?B/s]"
      ]
     },
     "metadata": {},
     "output_type": "display_data"
    },
    {
     "data": {
      "application/vnd.jupyter.widget-view+json": {
       "model_id": "f86c90c0fc484866bc9d5b849429667c",
       "version_major": 2,
       "version_minor": 0
      },
      "text/plain": [
       "generation_config.json:   0%|          | 0.00/111 [00:00<?, ?B/s]"
      ]
     },
     "metadata": {},
     "output_type": "display_data"
    }
   ],
   "source": [
    "tokenizer = AutoTokenizer.from_pretrained(\"stabilityai/stablelm-zephyr-3b\")\n",
    "model = AutoModelForCausalLM.from_pretrained(\n",
    "    \"stabilityai/stablelm-zephyr-3b\",\n",
    "    load_in_8bit=True,\n",
    "    device_map=\"auto\",\n",
    "    torch_dtype=torch.float16,\n",
    "    low_cpu_mem_usage=True,\n",
    "    temperature=0,\n",
    ")"
   ]
  },
  {
   "cell_type": "code",
   "execution_count": 27,
   "metadata": {},
   "outputs": [],
   "source": [
    "qa_3b = get_qa_pipeline(model, tokenizer, instructor_embeddings)"
   ]
  },
  {
   "cell_type": "code",
   "execution_count": 32,
   "metadata": {},
   "outputs": [
    {
     "name": "stdout",
     "output_type": "stream",
     "text": [
      " The cooking procedure for a chicken curry dish in the Spicy Chilli Chicken cookbook involves\n",
      "the following steps using the listed ingredients:\n",
      "\n",
      "1. Marinate boneless chicken meat with lemon juice, masala, and salt for 1 hour.\n",
      "2. Fry the marinated chicken in canola oil until golden brown. Remove the chicken from the pot and cut it into\n",
      "pieces.\n",
      "3. In the same oil, add red onions, red chili powder, turmeric powder, smoked paprika, and coriander powder.\n",
      "Sauté them until they become wilted.\n",
      "4. Add chopped tomatoes, ginger, and garlic, and cook until the tomatoes soften and break apart.\n",
      "5. Mix tomato ketchup, soy sauce, fried chicken pieces, Indian green chiles, and green bell peppers into the\n",
      "pot. Simmer everything together until the peppers become soft and the chicken is fully cooked.\n",
      "6. Serve the spicy chicken curry over steamed rice.\n"
     ]
    }
   ],
   "source": [
    "converse(qa_3b, \"Give the cooking procedure (with ingredients and instructions) for a chicken curry dish in the cookbook.\")"
   ]
  },
  {
   "cell_type": "code",
   "execution_count": 33,
   "metadata": {},
   "outputs": [
    {
     "name": "stdout",
     "output_type": "stream",
     "text": [
      " The ingredients for an Asian spicy dish in the cookbook include 2 tablespoons of coconut oil,\n",
      "1 big onion, 3 cloves of garlic, 2 centimeters of ginger, 2 scallions, 50 grams of red chilies, 1 cup of\n",
      "basmati rice, 30 grams of chili powder, 3 tablespoons of light soy sauce, 2 tablespoons of fish sauce, 1\n",
      "tablespoon of chicken powder, 1 tablespoon of salt, and 1 tablespoon of pepper.\n"
     ]
    }
   ],
   "source": [
    "converse(qa_3b, \"Give the ingredients for an Asian spicy dish in the cookbook.\")"
   ]
  },
  {
   "cell_type": "code",
   "execution_count": 30,
   "metadata": {},
   "outputs": [
    {
     "name": "stdout",
     "output_type": "stream",
     "text": [
      " 1. Baked Pork Chops\n",
      "2. Slow Cooker Pulled Pork\n",
      "3. Pan-Seared Pork Tenderloin\n",
      "4. Grilled Pork Ribs\n",
      "5. Smoked Pork Shoulders\n",
      "6. Roasted Pork Loin\n",
      "7. Braised Pork Shanks\n",
      "8. Stuffed Pork Tenderloin\n",
      "9. Creamy Garlic Pork Spaghetti\n",
      "10. Honey Mustard Glazed Pork Chop\n"
     ]
    }
   ],
   "source": [
    "converse(qa_3b, \"List 10 recipes in the cookbook that use pork.\")"
   ]
  },
  {
   "cell_type": "markdown",
   "metadata": {},
   "source": [
    "Note that these recipes do exist in the cookbook. For the 1b model they do not."
   ]
  },
  {
   "cell_type": "code",
   "execution_count": 34,
   "metadata": {},
   "outputs": [
    {
     "name": "stdout",
     "output_type": "stream",
     "text": [
      " The ingredients include 3-4 bone-in pork chops, 1 medium apple, 1 medium onion, 1 tablespoon\n",
      "honey, 1 tablespoon caraway seed, garlic salt, black pepper, and Dijon mustard. The cooking procedure involves\n",
      "layering the sliced onions and apples in a baking dish, drizzling honey and half the caraway seeds over them,\n",
      "seasoning the pork chops with garlic salt and black pepper, spreading Dijon mustard on top of the pork chops,\n",
      "sprinkling the remaining caraway seeds, covering and baking the dish for one hour at 350 degrees Fahrenheit\n",
      "(180 degrees Celsius).\n"
     ]
    }
   ],
   "source": [
    "converse(qa_3b, \"Give the ingredients and the cooking procedure for Baked Pork Chops.\")"
   ]
  },
  {
   "cell_type": "markdown",
   "metadata": {},
   "source": [
    "## 7B `TheBloke/wizardLM-7B-HF`"
   ]
  },
  {
   "cell_type": "code",
   "execution_count": 40,
   "metadata": {},
   "outputs": [
    {
     "name": "stderr",
     "output_type": "stream",
     "text": [
      "The `load_in_4bit` and `load_in_8bit` arguments are deprecated and will be removed in the future versions. Please, pass a `BitsAndBytesConfig` object in `quantization_config` argument instead.\n"
     ]
    },
    {
     "data": {
      "application/vnd.jupyter.widget-view+json": {
       "model_id": "ff0279df08fa4c01ba794dd5ba50f948",
       "version_major": 2,
       "version_minor": 0
      },
      "text/plain": [
       "Loading checkpoint shards:   0%|          | 0/2 [00:00<?, ?it/s]"
      ]
     },
     "metadata": {},
     "output_type": "display_data"
    }
   ],
   "source": [
    "tokenizer = LlamaTokenizer.from_pretrained(\"TheBloke/wizardLM-7B-HF\")\n",
    "model = LlamaForCausalLM.from_pretrained(\n",
    "    \"TheBloke/wizardLM-7B-HF\",\n",
    "    load_in_8bit=True,\n",
    "    device_map=\"auto\",\n",
    "    torch_dtype=torch.float16,\n",
    "    low_cpu_mem_usage=True,\n",
    "    temperature=0,\n",
    ")"
   ]
  },
  {
   "cell_type": "code",
   "execution_count": 42,
   "metadata": {},
   "outputs": [],
   "source": [
    "qa_7b = get_qa_pipeline(model, tokenizer, instructor_embeddings)"
   ]
  },
  {
   "cell_type": "code",
   "execution_count": 48,
   "metadata": {},
   "outputs": [
    {
     "name": "stdout",
     "output_type": "stream",
     "text": [
      "Sure! Here is the recipe for Chicken Wings Asian Style from the cookbook you provided:\n",
      "Ingredients:\n",
      "- 24 chicken wingettes\n",
      "- Poultry shake, as needed\n",
      "- Cornmeal, as needed\n",
      "- 2 eggs, beaten\n",
      "- 6 tbsp hoisin sauce\n",
      "- 1 tbsp dark soy sauce\n",
      "- 2 tbsp hot sauce\n",
      "- 1/2 tbsp minced garlic\n",
      "- 1/2 tbsp minced ginger\n",
      "- Spicy garlic oil for deep frying\n",
      "Instructions:\n",
      "1. Coat the chicken wingettes with egg. Season them liberally with poultry shake.\n",
      "2. In a separate bowl, mix together the cornmeal, salt, and black pepper.\n",
      "3. Dip each chicken wingette into the cornmeal mixture, making sure they are fully coated.\n",
      "4. Heat up the spicy garlic oil in a deep fryer or a large pot over medium heat.\n",
      "5. Once the oil is heated through, add the chicken wingettes in batches, making sure not to overcrowd the pan.\n",
      "6. Cook the chicken for 12 minutes, or until they are golden brown and crispy on the outside.\n",
      "7. Remove the chicken from the oil using a slotted spoon and transfer them onto a wire rack to drain excess\n",
      "oil.\n",
      "8. In a small bowl, combine the remaining ingredients (hoisin sauce, dark soy sauce, hot sauce, minced garlic,\n",
      "minced ginger, and salt) and stir well.\n",
      "9. Toss the chicken wingettes in the sauce until they are evenly coated.\n",
      "10. Serve the chicken warm with your favorite dipping sauce.\n"
     ]
    }
   ],
   "source": [
    "converse(qa_7b, \"Give the cooking procedure (with ingredients and instructions) for any chicken  dish.\")"
   ]
  },
  {
   "cell_type": "code",
   "execution_count": 44,
   "metadata": {},
   "outputs": [
    {
     "name": "stdout",
     "output_type": "stream",
     "text": [
      "The ingredients for an Asian spicy dish in the cookbook are:\n",
      "- 2 tbsp coconut oil\n",
      "- 1 big onion, diced\n",
      "- 3 cloves garlic, crushed\n",
      "- 2 cm piece ginger, minced\n",
      "- 2 scallions, cut into 1.5 cm pieces\n",
      "- 50 g red chile, cut into 1 cm pieces\n",
      "- 1 cup (900 g) basmati rice, cooked\n",
      "- 30 g chile powder\n",
      "- 3 tbsp light soy sauce\n",
      "- 2 tbsp fish sauce\n",
      "- 1 tbsp chicken powder\n",
      "- 1 tbsp salt\n",
      "- 1 tbsp pepper\n"
     ]
    }
   ],
   "source": [
    "converse(qa_7b, \"Give the ingredients for an Asian spicy dish in the cookbook.\")"
   ]
  },
  {
   "cell_type": "code",
   "execution_count": null,
   "metadata": {},
   "outputs": [],
   "source": [
    "converse(qa_7b, \"List 10 recipes that use pork from the cookbooks.\")"
   ]
  }
 ],
 "metadata": {
  "kernelspec": {
   "display_name": "cloudspace",
   "language": "python",
   "name": "python3"
  },
  "language_info": {
   "codemirror_mode": {
    "name": "ipython",
    "version": 3
   },
   "file_extension": ".py",
   "mimetype": "text/x-python",
   "name": "python",
   "nbconvert_exporter": "python",
   "pygments_lexer": "ipython3",
   "version": "3.10.10"
  }
 },
 "nbformat": 4,
 "nbformat_minor": 2
}
